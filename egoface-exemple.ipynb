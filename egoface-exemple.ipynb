{
 "cells": [
  {
   "cell_type": "markdown",
   "metadata": {},
   "source": []
  },
  {
   "cell_type": "markdown",
   "metadata": {},
   "source": [
    "it should be noted that all string should be replaced with correct localisation of models and files"
   ]
  },
  {
   "cell_type": "code",
   "execution_count": 1,
   "metadata": {},
   "outputs": [
    {
     "name": "stderr",
     "output_type": "stream",
     "text": [
      "Using TensorFlow backend.\n"
     ]
    },
    {
     "data": {
      "text/plain": [
       "<module 'deepEgoFace.recognizer.faceClassifier' from '/home/preal/Documents/Eirb/proj_sem/deepEgoFace/recognizer/faceClassifier.py'>"
      ]
     },
     "execution_count": 1,
     "metadata": {},
     "output_type": "execute_result"
    }
   ],
   "source": [
    "#import project\n",
    "from deepEgoFace import *\n",
    "from deepEgoFace.recognizer import *\n",
    "\n",
    "#reload modules to take changes into acount\n",
    "from importlib import reload\n",
    "reload (utils)\n",
    "reload (videoStream)\n",
    "reload (workflow)\n",
    "reload (detector)\n",
    "reload (embedder)\n",
    "reload (embeddingClassifier)\n",
    "reload (faceClassifier)\n",
    "\n",
    "#add control sequence to facevid\n",
    "\n",
    "#save params\n",
    "# SAVE_NOTHING\n",
    "# SAVE_DETECTION_FRAMEBBS\n",
    "# SAVE_DETECTION_CROPS\n",
    "# SAVE_RECOGNIZED_FRAMEBBS\n",
    "# SAVE_RECOGNIZED_CLASSES\n",
    "# SAVE_RECOGNIZED_EMBEDDINGS"
   ]
  },
  {
   "cell_type": "markdown",
   "metadata": {},
   "source": [
    "# VISUALIZE DETECTOR ON A VIDEO"
   ]
  },
  {
   "cell_type": "code",
   "execution_count": null,
   "metadata": {},
   "outputs": [],
   "source": [
    "#instantiate detector\n",
    "det = detector.opencvBased( \"./model/detector/opencv/deploy.prototxt.txt\",\"./model/detector/opencv/res10_300x300_ssd_iter_140000.caffemodel\")\n",
    "#video stream from a video\n",
    "stream = videoStream.opencvVideo('./corpus/N_F_P2.mp4',framePerSecondToExtract=1)\n",
    "#instantiate video processor\n",
    "fs = workflow.faceStream( stream,\n",
    "                         \"faces-tmp/\", \n",
    "                         \"classes.csv\", \n",
    "                         det, \n",
    "                         None,\n",
    "                         display=True)\n",
    "#process\n",
    "fs.detectFromAll()\n",
    "#free memory\n",
    "del fs"
   ]
  },
  {
   "cell_type": "markdown",
   "metadata": {},
   "source": [
    "# PROCESS CORPUS EMBEDDINGS"
   ]
  },
  {
   "cell_type": "code",
   "execution_count": 79,
   "metadata": {},
   "outputs": [
    {
     "name": "stdout",
     "output_type": "stream",
     "text": [
      "1/26: JNW_FP_PL1.mp4\n",
      "2/26: WJA_FP_PL2.mp4\n",
      "3/26: W_F_P1.mp4\n",
      "4/26: N_F_PL1.mp4\n",
      "5/26: N_P_P1.mp4\n",
      "6/26: J_F_P1.mp4\n",
      "7/26: W_P_P1.mp4\n",
      "8/26: je_P_P2.mp4\n",
      "9/26: Je_P_P1.mp4\n",
      "10/26: N_F_P2.mp4\n",
      "11/26: Je_F_P1.mp4\n",
      "12/26: N_P_P2.mp4\n",
      "13/26: NW_FP_PL1.mp4\n",
      "14/26: Je_F_P2.mp4\n",
      "15/26: N_F_P1.mp4\n",
      "16/26: JN_FP_P1.mp4\n",
      "17/26: W_F_P3.mp4\n",
      "18/26: W_P_P3.mp4\n",
      "19/26: N_F_P3.mp4\n",
      "20/26: J_F_P2.mp4\n",
      "21/26: W_F_P2.mp4\n",
      "22/26: WN_FP_PL1.mp4\n",
      "23/26: J_P_P1.mp4\n",
      "24/26: W_P_P2.mp4\n",
      "25/26: JN_P_L1.mp4\n",
      "26/26: JNW_FP_PL2.mp4\n"
     ]
    }
   ],
   "source": [
    "#instantiate detector\n",
    "det = detector.opencvBased( \"./model/detector/opencv/deploy.prototxt.txt\",\"./model/detector/opencv/res10_300x300_ssd_iter_140000.caffemodel\")\n",
    "#instantiate embedder then recognizer from it (will only give embeddings)\n",
    "emb = embedder.openface(\"./model/recognizer/embedder/openface_nn4.small2.v1.t7\")\n",
    "rec = faceClassifier.embedClassify( emb, None)\n",
    "#instantiate corpus processor\n",
    "fv = workflow.faceVideoCorpus(\"./corpus/\", \n",
    "                              \"mp4\",\n",
    "                              det,\n",
    "                              rec,\n",
    "                              save=workflow.SAVE_RECOGNIZED_EMBEDDINGS,\n",
    "                              align=\"model/recognizer/align/shape_predictor_68_face_landmarks.dat\",\n",
    "                              framePerSecondToExtract=3)\n",
    "#process\n",
    "fv.recognizeInAll()"
   ]
  },
  {
   "cell_type": "markdown",
   "metadata": {},
   "source": [
    "# PROCESS OTHER DATASET EMBEDDINGS"
   ]
  },
  {
   "cell_type": "code",
   "execution_count": 3,
   "metadata": {},
   "outputs": [],
   "source": [
    "#create a stream of picture from other dataset folder\n",
    "stream = videoStream.folderAsStream('./other',\"jpg\")\n",
    "#instantiate detector\n",
    "det = detector.opencvBased( \"./model/detector/opencv/deploy.prototxt.txt\",\"./model/detector/opencv/res10_300x300_ssd_iter_140000.caffemodel\")\n",
    "#instantiate embedder then recognizer from it (will only give embeddings)\n",
    "emb = embedder.openface(\"./model/recognizer/embedder/openface_nn4.small2.v1.t7\")\n",
    "rec = faceClassifier.embedClassify( emb, None)\n",
    "#instantiate corpus processor\n",
    "fs = workflow.faceStream( stream,\n",
    "                         \"faces-tmp/other/\",\n",
    "                         \"tmp/aligned/other-embeddings.csv\",\n",
    "                         det,\n",
    "                         rec,\n",
    "                         save=workflow.SAVE_DETECTION_CROPS, #workflow.SAVE_RECOGNIZED_EMBEDDINGS,\n",
    "                         display=True) #,\n",
    "                         #align=\"model/recognizer/align/shape_predictor_68_face_landmarks.dat\")\n",
    "#process\n",
    "fs.recognizeFromAll()\n",
    "del fs"
   ]
  },
  {
   "cell_type": "markdown",
   "metadata": {},
   "source": [
    "# ASSOCIATE HAND LABELS TO EMBEDDINGS\n",
    "You should manually subdive faces in folder of their class\n",
    "\n"
   ]
  },
  {
   "cell_type": "code",
   "execution_count": 81,
   "metadata": {},
   "outputs": [
    {
     "name": "stdout",
     "output_type": "stream",
     "text": [
      "['warren', 'nicolas', 'jeremy', 'julien', 'other']\n"
     ]
    }
   ],
   "source": [
    "utils.linkEmbeddingsAndClass( \"faces\", \"tmp/aligned/corpus-embeddings.csv\", \"tmp/aligned/corpus-embeddingsClasses.csv\")\n",
    "labels = utils.getLabels(\"faces\")\n",
    "print(labels)\n",
    "utils.mergeCorpusAndOtherEmbbedingsClasses( \"tmp/aligned/corpus-embeddingsClasses.csv\", labels, \"tmp/aligned/other-embeddings.csv\", \"tmp/aligned/all-embeddingsClasses.csv\")"
   ]
  },
  {
   "cell_type": "markdown",
   "metadata": {},
   "source": [
    "# VISUALIZE EMBEDDINGS DIMENSION REDUCTION\n"
   ]
  },
  {
   "cell_type": "code",
   "execution_count": 82,
   "metadata": {},
   "outputs": [
    {
     "name": "stdout",
     "output_type": "stream",
     "text": [
      "Preprocessing the data using PCA...\n",
      "Computing pairwise distances...\n",
      "Computing P-values for point 0 of 2901...\n",
      "Computing P-values for point 500 of 2901...\n",
      "Computing P-values for point 1000 of 2901...\n",
      "Computing P-values for point 1500 of 2901...\n",
      "Computing P-values for point 2000 of 2901...\n",
      "Computing P-values for point 2500 of 2901...\n",
      "Mean value of sigma: 0.172671\n",
      "Iteration 10: error is 24.107422\n",
      "Iteration 20: error is 21.521946\n",
      "Iteration 30: error is 18.617193\n",
      "Iteration 40: error is 17.735359\n",
      "Iteration 50: error is 17.540503\n",
      "Iteration 60: error is 17.506392\n",
      "Iteration 70: error is 17.474649\n",
      "Iteration 80: error is 17.433383\n",
      "Iteration 90: error is 17.407257\n",
      "Iteration 100: error is 17.386241\n",
      "Iteration 110: error is 2.636704\n",
      "Iteration 120: error is 2.339445\n",
      "Iteration 130: error is 2.141819\n",
      "Iteration 140: error is 2.000464\n",
      "Iteration 150: error is 1.893489\n",
      "Iteration 160: error is 1.809806\n",
      "Iteration 170: error is 1.742111\n",
      "Iteration 180: error is 1.686245\n",
      "Iteration 190: error is 1.639508\n",
      "Iteration 200: error is 1.599704\n",
      "Iteration 210: error is 1.565507\n",
      "Iteration 220: error is 1.535920\n",
      "Iteration 230: error is 1.510196\n",
      "Iteration 240: error is 1.487685\n",
      "Iteration 250: error is 1.467831\n",
      "Iteration 260: error is 1.450214\n",
      "Iteration 270: error is 1.434403\n",
      "Iteration 280: error is 1.420193\n",
      "Iteration 290: error is 1.407383\n",
      "Iteration 300: error is 1.395726\n",
      "Iteration 310: error is 1.384883\n",
      "Iteration 320: error is 1.375149\n",
      "Iteration 330: error is 1.366291\n",
      "Iteration 340: error is 1.358163\n",
      "Iteration 350: error is 1.350664\n",
      "Iteration 360: error is 1.343685\n",
      "Iteration 370: error is 1.337181\n",
      "Iteration 380: error is 1.331146\n",
      "Iteration 390: error is 1.325518\n",
      "Iteration 400: error is 1.320256\n",
      "Iteration 410: error is 1.315338\n",
      "Iteration 420: error is 1.310743\n",
      "Iteration 430: error is 1.306432\n",
      "Iteration 440: error is 1.302358\n",
      "Iteration 450: error is 1.298504\n",
      "Iteration 460: error is 1.294862\n",
      "Iteration 470: error is 1.291415\n",
      "Iteration 480: error is 1.288149\n",
      "Iteration 490: error is 1.285050\n",
      "Iteration 500: error is 1.282112\n",
      "Iteration 510: error is 1.279337\n",
      "Iteration 520: error is 1.276712\n",
      "Iteration 530: error is 1.274214\n",
      "Iteration 540: error is 1.271837\n",
      "Iteration 550: error is 1.269580\n",
      "Iteration 560: error is 1.267430\n",
      "Iteration 570: error is 1.265370\n",
      "Iteration 580: error is 1.263396\n",
      "Iteration 590: error is 1.261503\n",
      "Iteration 600: error is 1.259690\n",
      "Iteration 610: error is 1.257955\n",
      "Iteration 620: error is 1.256299\n",
      "Iteration 630: error is 1.254711\n",
      "Iteration 640: error is 1.253183\n",
      "Iteration 650: error is 1.251717\n",
      "Iteration 660: error is 1.250309\n",
      "Iteration 670: error is 1.248952\n",
      "Iteration 680: error is 1.247643\n",
      "Iteration 690: error is 1.246379\n",
      "Iteration 700: error is 1.245164\n",
      "Iteration 710: error is 1.243998\n",
      "Iteration 720: error is 1.242877\n",
      "Iteration 730: error is 1.241801\n",
      "Iteration 740: error is 1.240764\n",
      "Iteration 750: error is 1.239739\n",
      "Iteration 760: error is 1.238760\n",
      "Iteration 770: error is 1.237817\n",
      "Iteration 780: error is 1.236909\n",
      "Iteration 790: error is 1.236032\n",
      "Iteration 800: error is 1.235182\n",
      "Iteration 810: error is 1.234361\n",
      "Iteration 820: error is 1.233565\n",
      "Iteration 830: error is 1.232795\n",
      "Iteration 840: error is 1.232050\n",
      "Iteration 850: error is 1.231326\n",
      "Iteration 860: error is 1.230624\n",
      "Iteration 870: error is 1.229941\n",
      "Iteration 880: error is 1.229278\n",
      "Iteration 890: error is 1.228637\n",
      "Iteration 900: error is 1.228013\n",
      "Iteration 910: error is 1.227406\n",
      "Iteration 920: error is 1.226815\n",
      "Iteration 930: error is 1.226241\n",
      "Iteration 940: error is 1.225684\n",
      "Iteration 950: error is 1.225143\n",
      "Iteration 960: error is 1.224618\n",
      "Iteration 970: error is 1.224108\n",
      "Iteration 980: error is 1.223611\n",
      "Iteration 990: error is 1.223124\n",
      "Iteration 1000: error is 1.222649\n"
     ]
    },
    {
     "data": {
      "image/png": "[encoded data removed]",
      "text/plain": [
       "<Figure size 432x288 with 1 Axes>"
      ]
     },
     "metadata": {
      "needs_background": "light"
     },
     "output_type": "display_data"
    }
   ],
   "source": [
    "utils.visualizeEmbeddings(\"tmp/aligned/corpus-embeddingsClasses.csv\",size=0.2)"
   ]
  },
  {
   "cell_type": "markdown",
   "metadata": {},
   "source": [
    "# TRAIN AN EMBEDDING CLASSIFIER"
   ]
  },
  {
   "cell_type": "code",
   "execution_count": 100,
   "metadata": {},
   "outputs": [
    {
     "name": "stdout",
     "output_type": "stream",
     "text": [
      "0.9139951740779042\n"
     ]
    }
   ],
   "source": [
    "cls = embeddingClassifier.svmBased(\"svm_model.sav\")\n",
    "cls.train(\"tmp/aligned/corpus-embeddingsClasses.csv\")"
   ]
  },
  {
   "cell_type": "markdown",
   "metadata": {},
   "source": [
    "# TRAIN A FACE CLASSIFIER"
   ]
  },
  {
   "cell_type": "code",
   "execution_count": null,
   "metadata": {},
   "outputs": [
    {
     "name": "stdout",
     "output_type": "stream",
     "text": [
      "prepare data\n",
      "create model\n",
      "data flow from directory\n",
      "Found 9717 images belonging to 4 classes.\n",
      "Found 4786 images belonging to 4 classes.\n",
      "train model\n",
      "Epoch 1/20\n",
      "37/37 [==============================] - 448s 12s/step - loss: 1.3549 - acc: 0.8498 - val_loss: 1.2109 - val_acc: 0.8839\n",
      "Epoch 2/20\n",
      "37/37 [==============================] - 447s 12s/step - loss: 0.9712 - acc: 0.9482 - val_loss: 0.8609 - val_acc: 0.9702\n",
      "Epoch 3/20\n",
      "37/37 [==============================] - 443s 12s/step - loss: 0.7911 - acc: 0.9724 - val_loss: 0.7369 - val_acc: 0.9728\n",
      "Epoch 4/20\n",
      "21/37 [================>.............] - ETA: 3:02 - loss: 0.7001 - acc: 0.9791"
     ]
    }
   ],
   "source": [
    "rec = faceClassifier.res18Based(\"./corpusOnly_res18.h5\")\n",
    "rec.train(\"./corpus/faces\")"
   ]
  },
  {
   "cell_type": "markdown",
   "metadata": {},
   "source": [
    "# VISUALIZE RECOGINZER ON A VIDEO"
   ]
  },
  {
   "cell_type": "code",
   "execution_count": 5,
   "metadata": {},
   "outputs": [
    {
     "name": "stdout",
     "output_type": "stream",
     "text": [
      "['jeremy', 'julien', 'nicolas', 'warren']\n",
      "[[1. 0. 0. 0.]]\n",
      "0\n",
      "[[1. 0. 0. 0.]]\n",
      "0\n",
      "[[0. 0. 1. 0.]]\n",
      "2\n",
      "[[0. 0. 1. 0.]]\n",
      "2\n",
      "[[0. 0. 1. 0.]]\n",
      "2\n",
      "[[0. 0. 1. 0.]]\n",
      "2\n",
      "[[0. 0. 1. 0.]]\n",
      "2\n",
      "[[0. 0. 1. 0.]]\n",
      "2\n",
      "[[0. 0. 1. 0.]]\n",
      "2\n",
      "[[0. 0. 1. 0.]]\n",
      "2\n",
      "[[0. 0. 1. 0.]]\n",
      "2\n",
      "[[0. 0. 1. 0.]]\n",
      "2\n",
      "[[0. 0. 1. 0.]]\n",
      "2\n",
      "[[0. 0. 1. 0.]]\n",
      "2\n",
      "[[0. 0. 1. 0.]]\n",
      "2\n",
      "[[0. 0. 1. 0.]]\n",
      "2\n",
      "[[0. 0. 1. 0.]]\n",
      "2\n",
      "[[0. 0. 1. 0.]]\n",
      "2\n",
      "[[0. 0. 1. 0.]]\n",
      "2\n",
      "[[0. 0. 1. 0.]]\n",
      "2\n",
      "[[0. 0. 1. 0.]]\n",
      "2\n"
     ]
    },
    {
     "ename": "KeyboardInterrupt",
     "evalue": "",
     "output_type": "error",
     "traceback": [
      "\u001b[0;31m---------------------------------------------------------------------------\u001b[0m",
      "\u001b[0;31mKeyboardInterrupt\u001b[0m                         Traceback (most recent call last)",
      "\u001b[0;32m<ipython-input-5-1349c675a5a4>\u001b[0m in \u001b[0;36m<module>\u001b[0;34m\u001b[0m\n\u001b[1;32m     21\u001b[0m                          labels=labels)#,\n\u001b[1;32m     22\u001b[0m                          \u001b[0;31m#align=\"model/recognizer/align/shape_predictor_68_face_landmarks.dat\")\u001b[0m\u001b[0;34m\u001b[0m\u001b[0;34m\u001b[0m\u001b[0m\n\u001b[0;32m---> 23\u001b[0;31m \u001b[0mfs\u001b[0m\u001b[0;34m.\u001b[0m\u001b[0mrecognizeFromAll\u001b[0m\u001b[0;34m(\u001b[0m\u001b[0;34m)\u001b[0m\u001b[0;34m\u001b[0m\u001b[0m\n\u001b[0m\u001b[1;32m     24\u001b[0m \u001b[0;32mdel\u001b[0m \u001b[0mfs\u001b[0m\u001b[0;34m\u001b[0m\u001b[0m\n",
      "\u001b[0;32m~/Documents/Eirb/proj_sem/deepEgoFace/workflow.py\u001b[0m in \u001b[0;36mrecognizeFromAll\u001b[0;34m(self, timeLogger)\u001b[0m\n\u001b[1;32m    115\u001b[0m         \u001b[0;32mwhile\u001b[0m\u001b[0;34m(\u001b[0m\u001b[0;32mnot\u001b[0m \u001b[0mself\u001b[0m\u001b[0;34m.\u001b[0m\u001b[0mstream\u001b[0m\u001b[0;34m.\u001b[0m\u001b[0misClosed\u001b[0m\u001b[0;34m(\u001b[0m\u001b[0;34m)\u001b[0m\u001b[0;34m)\u001b[0m\u001b[0;34m:\u001b[0m\u001b[0;34m\u001b[0m\u001b[0m\n\u001b[1;32m    116\u001b[0m             \u001b[0mstart\u001b[0m \u001b[0;34m=\u001b[0m \u001b[0mtime\u001b[0m\u001b[0;34m.\u001b[0m\u001b[0mtime\u001b[0m\u001b[0;34m(\u001b[0m\u001b[0;34m)\u001b[0m\u001b[0;34m\u001b[0m\u001b[0m\n\u001b[0;32m--> 117\u001b[0;31m             \u001b[0mframenb\u001b[0m\u001b[0;34m,\u001b[0m \u001b[0mclasses\u001b[0m \u001b[0;34m=\u001b[0m \u001b[0mself\u001b[0m\u001b[0;34m.\u001b[0m\u001b[0mrecognizeFromNext\u001b[0m\u001b[0;34m(\u001b[0m\u001b[0;34m)\u001b[0m\u001b[0;34m\u001b[0m\u001b[0m\n\u001b[0m\u001b[1;32m    118\u001b[0m             \u001b[0;32mif\u001b[0m \u001b[0mtimeLogger\u001b[0m \u001b[0;32mis\u001b[0m \u001b[0;32mnot\u001b[0m \u001b[0;32mNone\u001b[0m\u001b[0;34m:\u001b[0m\u001b[0;34m\u001b[0m\u001b[0m\n\u001b[1;32m    119\u001b[0m                 \u001b[0mtimeLogger\u001b[0m\u001b[0;34m.\u001b[0m\u001b[0madd\u001b[0m\u001b[0;34m(\u001b[0m \u001b[0mself\u001b[0m\u001b[0;34m.\u001b[0m\u001b[0mstream\u001b[0m\u001b[0;34m.\u001b[0m\u001b[0mgetName\u001b[0m\u001b[0;34m(\u001b[0m\u001b[0;34m)\u001b[0m\u001b[0;34m,\u001b[0m \u001b[0mframenb\u001b[0m\u001b[0;34m,\u001b[0m \u001b[0;34m\"recognizer-full\"\u001b[0m\u001b[0;34m,\u001b[0m\u001b[0mtime\u001b[0m\u001b[0;34m.\u001b[0m\u001b[0mtime\u001b[0m\u001b[0;34m(\u001b[0m\u001b[0;34m)\u001b[0m\u001b[0;34m-\u001b[0m\u001b[0mstart\u001b[0m\u001b[0;34m)\u001b[0m\u001b[0;34m\u001b[0m\u001b[0m\n",
      "\u001b[0;32m~/Documents/Eirb/proj_sem/deepEgoFace/workflow.py\u001b[0m in \u001b[0;36mrecognizeFromNext\u001b[0;34m(self, timeLogger)\u001b[0m\n\u001b[1;32m    122\u001b[0m     \u001b[0;32mdef\u001b[0m \u001b[0mrecognizeFromNext\u001b[0m\u001b[0;34m(\u001b[0m \u001b[0mself\u001b[0m\u001b[0;34m,\u001b[0m \u001b[0mtimeLogger\u001b[0m\u001b[0;34m=\u001b[0m\u001b[0;32mNone\u001b[0m\u001b[0;34m)\u001b[0m\u001b[0;34m:\u001b[0m\u001b[0;34m\u001b[0m\u001b[0m\n\u001b[1;32m    123\u001b[0m \u001b[0;34m\u001b[0m\u001b[0m\n\u001b[0;32m--> 124\u001b[0;31m         \u001b[0mframenb\u001b[0m\u001b[0;34m,\u001b[0m \u001b[0mframe\u001b[0m \u001b[0;34m=\u001b[0m \u001b[0mself\u001b[0m\u001b[0;34m.\u001b[0m\u001b[0mstream\u001b[0m\u001b[0;34m.\u001b[0m\u001b[0mnextFrame\u001b[0m\u001b[0;34m(\u001b[0m\u001b[0;34m)\u001b[0m\u001b[0;34m\u001b[0m\u001b[0m\n\u001b[0m\u001b[1;32m    125\u001b[0m         \u001b[0;32mif\u001b[0m \u001b[0mframe\u001b[0m \u001b[0;32mis\u001b[0m \u001b[0;32mNone\u001b[0m\u001b[0;34m:\u001b[0m\u001b[0;34m\u001b[0m\u001b[0m\n\u001b[1;32m    126\u001b[0m             \u001b[0;32mreturn\u001b[0m \u001b[0mframenb\u001b[0m\u001b[0;34m,\u001b[0m \u001b[0;34m[\u001b[0m\u001b[0;34m]\u001b[0m\u001b[0;34m\u001b[0m\u001b[0m\n",
      "\u001b[0;32m~/Documents/Eirb/proj_sem/deepEgoFace/videoStream.py\u001b[0m in \u001b[0;36mnextFrame\u001b[0;34m(self)\u001b[0m\n\u001b[1;32m     76\u001b[0m         \u001b[0;31m#optimize by tmpstring and then write\u001b[0m\u001b[0;34m\u001b[0m\u001b[0;34m\u001b[0m\u001b[0m\n\u001b[1;32m     77\u001b[0m         \u001b[0;32mwhile\u001b[0m\u001b[0;34m(\u001b[0m\u001b[0mself\u001b[0m\u001b[0;34m.\u001b[0m\u001b[0mhasNext\u001b[0m \u001b[0;32mand\u001b[0m \u001b[0mnbf\u001b[0m \u001b[0;34m<\u001b[0m \u001b[0mself\u001b[0m\u001b[0;34m.\u001b[0m\u001b[0mnbFramesSkip\u001b[0m\u001b[0;34m)\u001b[0m\u001b[0;34m:\u001b[0m\u001b[0;34m\u001b[0m\u001b[0m\n\u001b[0;32m---> 78\u001b[0;31m             \u001b[0mself\u001b[0m\u001b[0;34m.\u001b[0m\u001b[0mhasNext\u001b[0m\u001b[0;34m,\u001b[0m \u001b[0mf\u001b[0m \u001b[0;34m=\u001b[0m \u001b[0mself\u001b[0m\u001b[0;34m.\u001b[0m\u001b[0mcapture\u001b[0m\u001b[0;34m.\u001b[0m\u001b[0mread\u001b[0m\u001b[0;34m(\u001b[0m\u001b[0;34m)\u001b[0m\u001b[0;34m\u001b[0m\u001b[0m\n\u001b[0m\u001b[1;32m     79\u001b[0m             \u001b[0mnbf\u001b[0m\u001b[0;34m=\u001b[0m\u001b[0mnbf\u001b[0m\u001b[0;34m+\u001b[0m\u001b[0;36m1\u001b[0m\u001b[0;34m\u001b[0m\u001b[0m\n\u001b[1;32m     80\u001b[0m             \u001b[0mself\u001b[0m\u001b[0;34m.\u001b[0m\u001b[0mnbframes\u001b[0m\u001b[0;34m=\u001b[0m\u001b[0mself\u001b[0m\u001b[0;34m.\u001b[0m\u001b[0mnbframes\u001b[0m\u001b[0;34m+\u001b[0m\u001b[0;36m1\u001b[0m\u001b[0;34m\u001b[0m\u001b[0m\n",
      "\u001b[0;31mKeyboardInterrupt\u001b[0m: "
     ]
    }
   ],
   "source": [
    "#instantiate detector\n",
    "det = detector.opencvBased( \"./model/detector/opencv/deploy.prototxt.txt\",\"./model/detector/opencv/res10_300x300_ssd_iter_140000.caffemodel\")\n",
    "#instantiate embedder and get classifier then recognizer from them\n",
    "#emb = embedder.openface(\"./model/recognizer/embedder/openface_nn4.small2.v1.t7\")\n",
    "#cls = embeddingClassifier.svmBased(\"./model/recognizer/embedding-classifier/aligned_corpOnly_embedding_svm_model.sav\")\n",
    "#rec = faceClassifier.embedClassify( emb, cls)\n",
    "#instantiate face classifier\n",
    "rec = faceClassifier.kerasCnn(\"./model/recognizer/face-classifier/test_res18.h5\")\n",
    "labels = utils.getLabels(\"corpus/faces\")\n",
    "#keras cnn has label in alphabetic order\n",
    "labels = sorted(labels)\n",
    "del labels[3]\n",
    "print(labels)\n",
    "stream = videoStream.opencvVideo('./corpus/W_F_P1.mp4',framePerSecondToExtract=1)\n",
    "fs = workflow.faceStream( stream,\n",
    "                         \"faces-tmp/\", \n",
    "                         \"labels.csv\", \n",
    "                         det, \n",
    "                         rec, \n",
    "                         display=True,\n",
    "                         labels=labels)#,\n",
    "                         #align=\"model/recognizer/align/shape_predictor_68_face_landmarks.dat\")\n",
    "fs.recognizeFromAll()\n",
    "del fs"
   ]
  },
  {
   "cell_type": "markdown",
   "metadata": {},
   "source": [
    "# LOG TIME"
   ]
  },
  {
   "cell_type": "code",
   "execution_count": null,
   "metadata": {},
   "outputs": [],
   "source": [
    "\n",
    "logger = utils.logger(\"./log/all.log\")\n",
    "\n",
    "#instantiate detector\n",
    "det = detector.opencvBased( \"./model/detector/opencv/deploy.prototxt.txt\",\"./model/detector/opencv/res10_300x300_ssd_iter_140000.caffemodel\")\n",
    "#instantiate embedder and get classifier then recognizer from them\n",
    "#emb = embedder.openface(\"./model/recognizer/embedder/openface_nn4.small2.v1.t7\")\n",
    "#cls = embeddingClassifier.svmBased(\"./model/recognizer/embedding-classifier/aligned_corpOnly_embedding_svm_model.sav\")\n",
    "#rec = faceClassifier.embedClassify( emb, cls)\n",
    "#instantiate face classifier\n",
    "rec = faceClassifier.res18Based()\n",
    "stream = videoStream.opencvVideo('./corpus/N_F_P2.mp4',framePerSecondToExtract=1)\n",
    "fs = workflow.faceStream( stream,\n",
    "                         \"faces-tmp/\", \n",
    "                         \"labels.csv\", \n",
    "                         det, \n",
    "                         rec, \n",
    "                         display=True,\n",
    "                         labels=labels,\n",
    "                         align=\"model/recognizer/align/shape_predictor_68_face_landmarks.dat\")\n",
    "fs.recognizeFromAll(timeLogger=logger)\n",
    "del fs"
   ]
  }
 ],
 "metadata": {
  "kernelspec": {
   "display_name": "Python 3",
   "language": "python",
   "name": "python3"
  },
  "language_info": {
   "codemirror_mode": {
    "name": "ipython",
    "version": 3
   },
   "file_extension": ".py",
   "mimetype": "text/x-python",
   "name": "python",
   "nbconvert_exporter": "python",
   "pygments_lexer": "ipython3",
   "version": "3.5.3"
  }
 },
 "nbformat": 4,
 "nbformat_minor": 2
}
